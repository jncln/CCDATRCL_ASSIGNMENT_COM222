{
 "cells": [
  {
   "cell_type": "code",
   "execution_count": 19,
   "metadata": {},
   "outputs": [],
   "source": [
    "# Creating a stack\n",
    "def create_stack():\n",
    "    stack = []\n",
    "    return stack\n",
    "\n",
    "def print_stack(stack):\n",
    "\n",
    "    if (check_empty(stack)):\n",
    "            return \"stack is empty\"\n",
    "\n",
    "    # Create a copy of the stack and reverse the elements\n",
    "    tempStack = stack.copy()\n",
    "    tempStack.reverse()\n",
    "\n",
    "    # Print all elements using a loop\n",
    "    for i in tempStack:\n",
    "        print(i)\n",
    "\n",
    "    # Delete the copy to free up memory\n",
    "    del tempStack\n",
    "\n",
    "# Creating an empty stack\n",
    "def check_empty(stack):\n",
    "    return len(stack) == 0\n",
    "\n",
    "\n",
    "# Adding items into the stack\n",
    "def push(stack, item):\n",
    "    stack.append(item)\n",
    "    print(\"pushed item: \", item)\n",
    "\n",
    "\n",
    "# Removing an element from the stack\n",
    "def pop(stack):\n",
    "    if (check_empty(stack)):\n",
    "        return \"stack is empty\"\n",
    "\n",
    "    return stack.pop()\n",
    "\n",
    "def peek(stack):\n",
    "\n",
    "    # Use negative indexing to display the last element of the list\n",
    "    print(stack[-1])\n",
    "    "
   ]
  },
  {
   "cell_type": "code",
   "execution_count": 20,
   "metadata": {},
   "outputs": [
    {
     "name": "stdout",
     "output_type": "stream",
     "text": [
      "pushed item:  Bun\n",
      "pushed item:  Patty\n",
      "pushed item:  Cheese\n",
      "pushed item:  Lettuce\n",
      "pushed item:  Tomato\n",
      "pushed item:  Bun\n"
     ]
    }
   ],
   "source": [
    "burger_stack = create_stack()\n",
    "\n",
    "push(burger_stack, \"Bun\")\n",
    "push(burger_stack, \"Patty\")\n",
    "push(burger_stack, \"Cheese\")\n",
    "push(burger_stack, \"Lettuce\")\n",
    "push(burger_stack, \"Tomato\")\n",
    "push(burger_stack, \"Bun\")"
   ]
  },
  {
   "cell_type": "code",
   "execution_count": 21,
   "metadata": {},
   "outputs": [
    {
     "name": "stdout",
     "output_type": "stream",
     "text": [
      "Bun\n",
      "Tomato\n",
      "Lettuce\n",
      "Cheese\n",
      "Patty\n",
      "Bun\n"
     ]
    }
   ],
   "source": [
    "print_stack(burger_stack)"
   ]
  },
  {
   "cell_type": "markdown",
   "metadata": {},
   "source": [
    " 2. Reverse a string using a stack\n",
    "Given two stacks:\n",
    "\n",
    "name_stack = ['E', 'L', 'I', 'Z', 'E', 'R']\n",
    "\n",
    "reversed_stack = []\n",
    "\n",
    "Use your firstname and pop each letter from the name_stack and push each element into the reversed_stack"
   ]
  },
  {
   "cell_type": "code",
   "execution_count": 22,
   "metadata": {},
   "outputs": [
    {
     "name": "stdout",
     "output_type": "stream",
     "text": [
      "pushed item:  H\n",
      "pushed item:  A\n",
      "pushed item:  N\n",
      "pushed item:  N\n",
      "pushed item:  A\n",
      "pushed item:  J\n",
      "['H', 'A', 'N', 'N', 'A', 'J']\n"
     ]
    }
   ],
   "source": [
    "name_stack = ['J', 'A', 'N', 'N', 'A', 'H']\n",
    "\n",
    "reversed_stack = create_stack()\n",
    "\n",
    "while not check_empty(name_stack):\n",
    "    letter = pop(name_stack)\n",
    "    push(reversed_stack, letter)\n",
    "\n",
    "print(reversed_stack)"
   ]
  },
  {
   "cell_type": "markdown",
   "metadata": {},
   "source": [
    "3. Remove elements using a stack\n",
    "Given this stack:\n",
    "\n",
    "numbers = [1,2,3,4,5,6,7,8,9,10]\n",
    "\n",
    "new_stack = []\n",
    "\n",
    "Using the pop() function, push elements in the new_stack if they are an even number"
   ]
  },
  {
   "cell_type": "code",
   "execution_count": 23,
   "metadata": {},
   "outputs": [
    {
     "name": "stdout",
     "output_type": "stream",
     "text": [
      "pushed item:  10\n",
      "pushed item:  8\n",
      "pushed item:  6\n",
      "pushed item:  4\n",
      "pushed item:  2\n",
      "[2, 4, 6, 8, 10]\n"
     ]
    }
   ],
   "source": [
    "numbers = [1,2,3,4,5,6,7,8,9,10]\n",
    "\n",
    "new_stack = create_stack() \n",
    "\n",
    "while not check_empty(numbers):\n",
    "    number = pop(numbers)\n",
    "    if number % 2 == 0:     \n",
    "        push(new_stack, number)\n",
    "\n",
    "new_stack.reverse()\n",
    "\n",
    "print(new_stack)"
   ]
  },
  {
   "cell_type": "markdown",
   "metadata": {},
   "source": [
    "4. Inserting elements into a stack\n",
    "Given two stacks:\n",
    "\n",
    "my_stack = ['E', 'L', 'I', 'Z', 'E', 'R', 'P', 'O', 'N', 'I', 'O', 'J', 'R']\n",
    "\n",
    "empty_stack = []\n",
    "\n",
    "Use pop() to get each element from my_stack and use push() to insert the element to empty_stack only if:\n",
    "\n",
    "1. The element is a vowel\n",
    "2. The element does not exist in empty_stack"
   ]
  },
  {
   "cell_type": "code",
   "execution_count": 24,
   "metadata": {},
   "outputs": [
    {
     "name": "stdout",
     "output_type": "stream",
     "text": [
      "pushed item:  O\n",
      "pushed item:  I\n",
      "pushed item:  E\n",
      "['E', 'I', 'O']\n"
     ]
    }
   ],
   "source": [
    "my_stack = ['E', 'L', 'I', 'Z', 'E', 'R', 'P', 'O', 'N', 'I', 'O', 'J', 'R']\n",
    "\n",
    "empty_stack = create_stack()\n",
    "\n",
    "vowels = 'AEIOU'\n",
    "\n",
    "while not check_empty(my_stack):\n",
    "    letter = pop(my_stack)\n",
    "\n",
    "    if letter in vowels and letter not in empty_stack:    # An if statement to check if the letter is a vowel\n",
    "        push(empty_stack, letter) \n",
    "\n",
    "empty_stack.reverse()\n",
    "print(empty_stack)"
   ]
  },
  {
   "cell_type": "markdown",
   "metadata": {},
   "source": [
    "5. Sort elements in a stack\n",
    "Given two stacks:\n",
    "\n",
    "number_stack = [3,1,2]\n",
    "\n",
    "sorted_stack = []\n",
    "\n",
    "Create a sort() function to pop each element from the number_stack and push each element into the sorted_stack. The elements in sorted_stack must be in ascending order."
   ]
  },
  {
   "cell_type": "code",
   "execution_count": 25,
   "metadata": {},
   "outputs": [
    {
     "name": "stdout",
     "output_type": "stream",
     "text": [
      "pushed item:  2\n",
      "pushed item:  2\n",
      "pushed item:  1\n",
      "pushed item:  2\n",
      "pushed item:  3\n",
      "[1, 2, 3]\n"
     ]
    }
   ],
   "source": [
    "number_stack = [3, 1, 2]\n",
    "sorted_stack = create_stack()\n",
    "\n",
    "def sort(number_stack, sorted_stack):\n",
    "\n",
    "    while not check_empty(number_stack):\n",
    "        number = pop(number_stack)\n",
    "\n",
    "        while not check_empty(sorted_stack) and sorted_stack[-1] > number:     \n",
    "            push(number_stack, pop(sorted_stack))                              \n",
    "\n",
    "        push(sorted_stack, number)\n",
    "\n",
    "sort(number_stack, sorted_stack)\n",
    "\n",
    "print(sorted_stack)"
   ]
  }
 ],
 "metadata": {
  "kernelspec": {
   "display_name": "base",
   "language": "python",
   "name": "python3"
  },
  "language_info": {
   "codemirror_mode": {
    "name": "ipython",
    "version": 3
   },
   "file_extension": ".py",
   "mimetype": "text/x-python",
   "name": "python",
   "nbconvert_exporter": "python",
   "pygments_lexer": "ipython3",
   "version": "3.11.4"
  },
  "orig_nbformat": 4
 },
 "nbformat": 4,
 "nbformat_minor": 2
}
