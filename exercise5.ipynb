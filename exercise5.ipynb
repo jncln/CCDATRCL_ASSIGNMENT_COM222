{
  "cells": [
    {
      "cell_type": "markdown",
      "metadata": {
        "colab_type": "text",
        "id": "view-in-github"
      },
      "source": [
        "<a href=\"https://colab.research.google.com/github/robitussin/CCDATRCL_EXERCISES/blob/main/exercise5.ipynb\" target=\"_parent\"><img src=\"https://colab.research.google.com/assets/colab-badge.svg\" alt=\"Open In Colab\"/></a>"
      ]
    },
    {
      "cell_type": "markdown",
      "metadata": {
        "id": "DN15rkKvhGBr"
      },
      "source": [
        "# Exercise 5"
      ]
    },
    {
      "cell_type": "markdown",
      "metadata": {
        "id": "oEys_5t7hGBt"
      },
      "source": [
        "#### 1. Create a dictionary of your 10 favorite songs."
      ]
    },
    {
      "cell_type": "markdown",
      "metadata": {
        "id": "T1iOtzXshGBu"
      },
      "source": [
        "Example:\n",
        "\n",
        "|KEY|VALUE|\n",
        "|---|---|\n",
        "|001|My Love|\n",
        "|002|Like a rose|"
      ]
    },
    {
      "cell_type": "code",
      "execution_count": 63,
      "metadata": {
        "id": "dprOhMRchGBu"
      },
      "outputs": [
        {
          "name": "stdout",
          "output_type": "stream",
          "text": [
            "{'001': 'Die for you', '002': 'Seasons', '003': 'Happy w u', '004': 'Green Tea & Honey', '005': 'Kiwi', '006': 'Unrequited Love', '007': 'Photo ID', '008': 'we fell in love in october', '009': 'Nobody gets me', '010': 'Say yes to heaven'}\n"
          ]
        }
      ],
      "source": [
        "mydictionary = {\n",
        "  \"001\": \"Die for you\",\n",
        "  \"002\": \"Seasons\",\n",
        "  \"003\": \"Happy w u\",\n",
        "  \"004\": \"Green Tea & Honey\",\n",
        "  \"005\": \"Kiwi\",\n",
        "  \"006\": \"Unrequited Love\",\n",
        "  \"007\": \"Photo ID\",\n",
        "  \"008\": \"we fell in love in october\",\n",
        "  \"009\": \"Nobody gets me\",\n",
        "  \"010\": \"Say yes to heaven\"\n",
        "}\n",
        "print(mydictionary)\n",
        "     "
      ]
    },
    {
      "cell_type": "markdown",
      "metadata": {
        "id": "g1FstA7XhGBv"
      },
      "source": [
        "#### 2. Loop through the dictionary by its **key** and **value**"
      ]
    },
    {
      "cell_type": "code",
      "execution_count": 64,
      "metadata": {
        "id": "QgyUTiuHhGBv"
      },
      "outputs": [
        {
          "name": "stdout",
          "output_type": "stream",
          "text": [
            "001 Die for you\n",
            "002 Seasons\n",
            "003 Happy w u\n",
            "004 Green Tea & Honey\n",
            "005 Kiwi\n",
            "006 Unrequited Love\n",
            "007 Photo ID\n",
            "008 we fell in love in october\n",
            "009 Nobody gets me\n",
            "010 Say yes to heaven\n"
          ]
        }
      ],
      "source": [
        "for c, n in mydictionary.items():\n",
        "  print(c, n)"
      ]
    },
    {
      "cell_type": "markdown",
      "metadata": {
        "id": "h5N_w8-yhGBw"
      },
      "source": [
        "#### 3. Add one additional song"
      ]
    },
    {
      "cell_type": "code",
      "execution_count": 65,
      "metadata": {
        "id": "oUXMAJWEhGBw"
      },
      "outputs": [
        {
          "data": {
            "text/plain": [
              "{'001': 'Die for you',\n",
              " '002': 'Seasons',\n",
              " '003': 'Happy w u',\n",
              " '004': 'Green Tea & Honey',\n",
              " '005': 'Kiwi',\n",
              " '006': 'Unrequited Love',\n",
              " '007': 'Photo ID',\n",
              " '008': 'we fell in love in october',\n",
              " '009': 'Nobody gets me',\n",
              " '010': 'Say yes to heaven',\n",
              " '011': 'Lover'}"
            ]
          },
          "execution_count": 65,
          "metadata": {},
          "output_type": "execute_result"
        }
      ],
      "source": [
        "mydictionary.update({\"011\": \"Lover\"})\n",
        "mydictionary"
      ]
    },
    {
      "cell_type": "markdown",
      "metadata": {
        "id": "7OlW5r9dhGBx"
      },
      "source": [
        "#### 4. Remove one song"
      ]
    },
    {
      "cell_type": "code",
      "execution_count": 66,
      "metadata": {
        "id": "g39mqwpDhGBx"
      },
      "outputs": [
        {
          "data": {
            "text/plain": [
              "{'001': 'Die for you',\n",
              " '002': 'Seasons',\n",
              " '004': 'Green Tea & Honey',\n",
              " '005': 'Kiwi',\n",
              " '006': 'Unrequited Love',\n",
              " '007': 'Photo ID',\n",
              " '008': 'we fell in love in october',\n",
              " '009': 'Nobody gets me',\n",
              " '010': 'Say yes to heaven',\n",
              " '011': 'Lover'}"
            ]
          },
          "execution_count": 66,
          "metadata": {},
          "output_type": "execute_result"
        }
      ],
      "source": [
        "mydictionary.pop(\"003\")\n",
        "mydictionary"
      ]
    },
    {
      "cell_type": "markdown",
      "metadata": {
        "id": "gZ8Sr1bzhGBy"
      },
      "source": [
        "#### 5. Create a nested dictionary of your 10 favorite songs with 5 genres. Display all of the items of the nested dictionary\n",
        "\n",
        "- Each nested dictionary's key should be the genre of the song\n",
        "- Put each song in their respective genre"
      ]
    },
    {
      "cell_type": "markdown",
      "metadata": {
        "id": "US1ZaaSJhGBy"
      },
      "source": [
        "Example:\n",
        "\n",
        "\n",
        "|KEY|VALUE|\n",
        "|---|---|\n",
        "|Pop|{001, Baby}|\n",
        "|Rock|{001, Enter Sandman}|"
      ]
    },
    {
      "cell_type": "code",
      "execution_count": 67,
      "metadata": {
        "id": "z577KULkhGBz"
      },
      "outputs": [
        {
          "data": {
            "text/plain": [
              "{'RnB': {'001': 'The boy is mine',\n",
              "  '002': 'Out of time',\n",
              "  '003': 'You belong with me'},\n",
              " 'OPM': {'004': 'Ipagpatawad mo', '005': 'Ikaw nga', '006': 'Tadhana'},\n",
              " 'Rap': {'007': 'Bagsakan', '008': 'Welcome2DTQ'},\n",
              " 'Pop': {'009': 'Style'},\n",
              " 'Rock': {'010': 'Bring Me To Life'}}"
            ]
          },
          "execution_count": 67,
          "metadata": {},
          "output_type": "execute_result"
        }
      ],
      "source": [
        "mydictionary = {\n",
        "  \"RnB\" : {\n",
        "    \"001\" : \"The boy is mine\",\n",
        "    \"002\" : \"Out of time\",\n",
        "    \"003\" : \"You belong with me\",\n",
        "  },\n",
        "  \"OPM\" : {\n",
        "    \"004\" : \"Ipagpatawad mo\",\n",
        "    \"005\" : \"Ikaw nga\",\n",
        "    \"006\" : \"Tadhana\",\n",
        "  },\n",
        "  \"Rap\" : {\n",
        "    \"007\" : \"Bagsakan\",\n",
        "    \"008\" : \"Welcome2DTQ\"\n",
        "  },\n",
        "  \"Pop\" : {\n",
        "    \"009\" : \"Style\"\n",
        "  },\n",
        "  \"Rock\" : {\n",
        "    \"010\" : \"Bring Me To Life\"\n",
        "   }\n",
        "}\n",
        "mydictionary"
      ]
    },
    {
      "cell_type": "markdown",
      "metadata": {
        "id": "ZMgltzOkhGBz"
      },
      "source": [
        "#### 6. Print the first song of the first genre"
      ]
    },
    {
      "cell_type": "code",
      "execution_count": 68,
      "metadata": {
        "id": "nmXUGoNWhGBz"
      },
      "outputs": [
        {
          "name": "stdout",
          "output_type": "stream",
          "text": [
            "The boy is mine\n"
          ]
        }
      ],
      "source": [
        "print(mydictionary[\"RnB\"][\"001\"])"
      ]
    },
    {
      "cell_type": "markdown",
      "metadata": {
        "id": "dEcgwp_ihGB0"
      },
      "source": [
        "#### 7. Print the first song of the last genre"
      ]
    },
    {
      "cell_type": "code",
      "execution_count": 69,
      "metadata": {
        "id": "ITbuWq2UhGB0"
      },
      "outputs": [
        {
          "name": "stdout",
          "output_type": "stream",
          "text": [
            "Bring Me To Life\n"
          ]
        }
      ],
      "source": [
        "print(mydictionary[\"Rock\"][\"010\"])"
      ]
    }
  ],
  "metadata": {
    "colab": {
      "include_colab_link": true,
      "provenance": []
    },
    "kernelspec": {
      "display_name": "Python 3",
      "language": "python",
      "name": "python3"
    },
    "language_info": {
      "codemirror_mode": {
        "name": "ipython",
        "version": 3
      },
      "file_extension": ".py",
      "mimetype": "text/x-python",
      "name": "python",
      "nbconvert_exporter": "python",
      "pygments_lexer": "ipython3",
      "version": "3.11.4"
    },
    "orig_nbformat": 4
  },
  "nbformat": 4,
  "nbformat_minor": 0
}
